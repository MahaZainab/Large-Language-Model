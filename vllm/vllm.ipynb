{
 "cells": [
  {
   "cell_type": "code",
   "execution_count": null,
   "id": "bf2129e4",
   "metadata": {},
   "outputs": [
    {
     "ename": "ModuleNotFoundError",
     "evalue": "No module named 'ray'",
     "output_type": "error",
     "traceback": [
      "\u001b[1;31m---------------------------------------------------------------------------\u001b[0m",
      "\u001b[1;31mModuleNotFoundError\u001b[0m                       Traceback (most recent call last)",
      "Cell \u001b[1;32mIn[1], line 1\u001b[0m\n\u001b[1;32m----> 1\u001b[0m \u001b[38;5;28;01mimport\u001b[39;00m\u001b[38;5;250m \u001b[39m\u001b[38;5;21;01mray\u001b[39;00m  \u001b[38;5;66;03m# Requires ray>=2.44.1\u001b[39;00m\n\u001b[0;32m      2\u001b[0m \u001b[38;5;28;01mfrom\u001b[39;00m\u001b[38;5;250m \u001b[39m\u001b[38;5;21;01mray\u001b[39;00m\u001b[38;5;21;01m.\u001b[39;00m\u001b[38;5;21;01mdata\u001b[39;00m\u001b[38;5;21;01m.\u001b[39;00m\u001b[38;5;21;01mllm\u001b[39;00m\u001b[38;5;250m \u001b[39m\u001b[38;5;28;01mimport\u001b[39;00m vLLMEngineProcessorConfig, build_llm_processor\n\u001b[0;32m      4\u001b[0m config \u001b[38;5;241m=\u001b[39m vLLMEngineProcessorConfig(model_source\u001b[38;5;241m=\u001b[39m\u001b[38;5;124m\"\u001b[39m\u001b[38;5;124munsloth/Llama-3.2-1B-Instruct\u001b[39m\u001b[38;5;124m\"\u001b[39m)\n",
      "\u001b[1;31mModuleNotFoundError\u001b[0m: No module named 'ray'"
     ]
    }
   ],
   "source": [
    "import ray  # Requires ray>=2.44.1\n",
    "from ray.data.llm import vLLMEngineProcessorConfig, build_llm_processor\n",
    "\n",
    "config = vLLMEngineProcessorConfig(model_source=\"unsloth/Llama-3.2-1B-Instruct\")\n",
    "processor = build_llm_processor(\n",
    "    config,\n",
    "    preprocess=lambda row: {\n",
    "        \"messages\": [\n",
    "            {\"role\": \"system\", \"content\": \"You are a bot that completes unfinished haikus.\"},\n",
    "            {\"role\": \"user\", \"content\": row[\"item\"]},\n",
    "        ],\n",
    "        \"sampling_params\": {\"temperature\": 0.3, \"max_tokens\": 250},\n",
    "    },\n",
    "    postprocess=lambda row: {\"answer\": row[\"generated_text\"]},\n",
    ")\n",
    "\n",
    "ds = ray.data.from_items([\"An old silent pond...\"])\n",
    "ds = processor(ds)\n",
    "ds.write_parquet(\"data/\")"
   ]
  },
  {
   "cell_type": "code",
   "execution_count": null,
   "id": "ebf8a190",
   "metadata": {},
   "outputs": [],
   "source": []
  }
 ],
 "metadata": {
  "kernelspec": {
   "display_name": "Python 3",
   "language": "python",
   "name": "python3"
  },
  "language_info": {
   "codemirror_mode": {
    "name": "ipython",
    "version": 3
   },
   "file_extension": ".py",
   "mimetype": "text/x-python",
   "name": "python",
   "nbconvert_exporter": "python",
   "pygments_lexer": "ipython3",
   "version": "3.12.5"
  }
 },
 "nbformat": 4,
 "nbformat_minor": 5
}
